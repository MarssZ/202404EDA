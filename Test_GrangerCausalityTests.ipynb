{
 "cells": [
  {
   "cell_type": "code",
   "execution_count": 1,
   "metadata": {},
   "outputs": [
    {
     "name": "stdout",
     "output_type": "stream",
     "text": [
      "           date  order_cnt       amount  refuelLiters text_day text_night  \\\n",
      "359  2023-12-26    1072045  335929197.6   44738960.24        阴         多云   \n",
      "360  2023-12-27    1054896  332618128.4   44334481.65       多云          晴   \n",
      "361  2023-12-28    1032115  323028612.7   42986493.14        晴         多云   \n",
      "362  2023-12-29    1218840  372592734.2   49432247.01       多云         小雨   \n",
      "363  2023-12-30    1126207  341635923.3   45312200.19        阴          晴   \n",
      "\n",
      "     high  low wc_day wd_day  ... code_week  holidays encoded_holidays  \\\n",
      "359     9    0   3~4级     东风  ...         2        平时                4   \n",
      "360    12    0    <3级    西北风  ...         3        平时                4   \n",
      "361    12    3   3~4级     北风  ...         4        平时                4   \n",
      "362    12    5   3~4级    东南风  ...         5        平时                4   \n",
      "363    14    1    <3级    西南风  ...         6        平时                4   \n",
      "\n",
      "    305_price  encode_weight_305price 305_order_cnt   305_amount  313_price  \\\n",
      "359       7.5                     0.0        598525  136598166.5       7.98   \n",
      "360       7.5                     0.0        584640  132897195.7       7.98   \n",
      "361       7.5                     0.0        579368  132027565.2       7.98   \n",
      "362       7.5                     0.0        682637  156156281.9       7.98   \n",
      "363       7.5                     0.0        643768  146443772.7       7.98   \n",
      "\n",
      "     313_order_cnt    313_amount  \n",
      "359         312581  1.007657e+08  \n",
      "360         307563  9.888455e+07  \n",
      "361         292904  9.408718e+07  \n",
      "362         368280  1.175898e+08  \n",
      "363         344052  1.090812e+08  \n",
      "\n",
      "[5 rows x 24 columns]\n"
     ]
    }
   ],
   "source": [
    "# GrangerCausalityTests 检验，\n",
    "# 确定一个时间序列中的一个变量能否用于预测另一个时间序列。\n",
    "# 如果油价对销量有预测能力，则可认为油价对销量有因果关系。\n",
    "\n",
    "# 超参数\n",
    "COLS_Y = 'amount'\n",
    "COLS_X = 'encode_weight_305price'\n",
    "COLS_ALL = ['date', 'amount', 'refuelLiters', 'order_cnt', 'text_day', 'text_night', 'high', 'low', 'wc_day', 'wd_day', 'wc_night', 'wd_night', 'week', 'holidays', 'encoded_wc_night', 'code_week', 'encoded_holidays', '305_price','305_order_cnt','305_amount','313_price','encode_weight_305price','313_order_cnt','313_amount' ]\n",
    "\n",
    "import pandas as pd\n",
    "\n",
    "# 读取excel文件并获取指定列\n",
    "df = pd.read_csv('Data\\结果1_全站按日期分组_2023全年.csv', usecols=COLS_ALL, encoding='GBK')\n",
    "print(df.tail())\n"
   ]
  },
  {
   "cell_type": "code",
   "execution_count": 2,
   "metadata": {},
   "outputs": [
    {
     "name": "stdout",
     "output_type": "stream",
     "text": [
      "\n",
      "Granger Causality\n",
      "number of lags (no zero) 1\n",
      "ssr based F test:         F=6.5946  , p=0.0106  , df_denom=360, df_num=1\n",
      "ssr based chi2 test:   chi2=6.6496  , p=0.0099  , df=1\n",
      "likelihood ratio test: chi2=6.5894  , p=0.0103  , df=1\n",
      "parameter F test:         F=6.5946  , p=0.0106  , df_denom=360, df_num=1\n",
      "\n",
      "Granger Causality\n",
      "number of lags (no zero) 2\n",
      "ssr based F test:         F=5.3858  , p=0.0050  , df_denom=357, df_num=2\n",
      "ssr based chi2 test:   chi2=10.9225 , p=0.0042  , df=2\n",
      "likelihood ratio test: chi2=10.7610 , p=0.0046  , df=2\n",
      "parameter F test:         F=5.3858  , p=0.0050  , df_denom=357, df_num=2\n",
      "\n",
      "Granger Causality\n",
      "number of lags (no zero) 3\n",
      "ssr based F test:         F=4.4101  , p=0.0046  , df_denom=354, df_num=3\n",
      "ssr based chi2 test:   chi2=13.4919 , p=0.0037  , df=3\n",
      "likelihood ratio test: chi2=13.2459 , p=0.0041  , df=3\n",
      "parameter F test:         F=4.4101  , p=0.0046  , df_denom=354, df_num=3\n",
      "\n",
      "Granger Causality\n",
      "number of lags (no zero) 4\n",
      "ssr based F test:         F=5.2929  , p=0.0004  , df_denom=351, df_num=4\n",
      "ssr based chi2 test:   chi2=21.7144 , p=0.0002  , df=4\n",
      "likelihood ratio test: chi2=21.0847 , p=0.0003  , df=4\n",
      "parameter F test:         F=5.2929  , p=0.0004  , df_denom=351, df_num=4\n",
      "\n",
      "Granger Causality\n",
      "number of lags (no zero) 5\n",
      "ssr based F test:         F=3.5619  , p=0.0037  , df_denom=348, df_num=5\n",
      "ssr based chi2 test:   chi2=18.3726 , p=0.0025  , df=5\n",
      "likelihood ratio test: chi2=17.9179 , p=0.0031  , df=5\n",
      "parameter F test:         F=3.5619  , p=0.0037  , df_denom=348, df_num=5\n"
     ]
    }
   ],
   "source": [
    "from statsmodels.tsa.stattools import grangercausalitytests\n",
    "\n",
    "# 进行Granger因果检验，滞后阶数选择2\n",
    "# COLS_Y, COLS_X，这个入参顺序代表着在检验 \"COLS_X 造成 COLS_Y\"。如果结果显著，则表示 COLS_X 的历史值对 COLS_Y 有预测能力。\n",
    "granger_result = grangercausalitytests(df[[COLS_Y, COLS_X]], maxlag=5)"
   ]
  }
 ],
 "metadata": {
  "kernelspec": {
   "display_name": "Python 3",
   "language": "python",
   "name": "python3"
  },
  "language_info": {
   "codemirror_mode": {
    "name": "ipython",
    "version": 3
   },
   "file_extension": ".py",
   "mimetype": "text/x-python",
   "name": "python",
   "nbconvert_exporter": "python",
   "pygments_lexer": "ipython3",
   "version": "3.12.2"
  }
 },
 "nbformat": 4,
 "nbformat_minor": 2
}
