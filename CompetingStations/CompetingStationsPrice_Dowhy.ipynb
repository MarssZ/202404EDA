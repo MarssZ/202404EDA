{
 "cells": [
  {
   "cell_type": "code",
   "execution_count": 5,
   "metadata": {},
   "outputs": [],
   "source": [
    "# 因果推断\n",
    "# 竞争站点价差、或价格，或价格变化是否对我方整体销量/石油/柴油构成影响\n"
   ]
  },
  {
   "cell_type": "code",
   "execution_count": 7,
   "metadata": {},
   "outputs": [
    {
     "name": "stdout",
     "output_type": "stream",
     "text": [
      "       date  进站加油车量（柴油）  60000359_price 60000359_price_other  60000359_amount\n",
      "0  2023/1/1          12            7.20         [5.07, 7.20]        186516.28\n",
      "1  2023/1/2          22            7.20         [5.07, 7.20]        247329.50\n",
      "2  2023/1/3          13            7.20         [5.07, 7.20]        314626.46\n",
      "3  2023/1/4           7            7.41   [5.07, 7.21, 7.41]         18120.33\n",
      "4  2023/1/5          19            7.41         [5.07, 7.41]         98104.99\n"
     ]
    }
   ],
   "source": [
    "### STEP1：读取数据 ###\n",
    "\n",
    "import pandas as pd\n",
    "from dowhy import CausalModel\n",
    "from IPython.display import Image, display\n",
    "\n",
    "COLS_DATE = 'date'\n",
    "COLS_PRICE = '60000359_price'                   #92号国六B\n",
    "COLS_PRICE_OTHER = '60000359_price_other'\n",
    "COLS_AMOUNT = '60000359_amount'  \n",
    "COLS_CAR_FLOW = '进站加油车量（柴油）'\n",
    "# COLS_CAR_FLOW = '进站加油车量（汽油）'\n",
    "COLS_ALL = [COLS_DATE, \n",
    "            COLS_CAR_FLOW,\n",
    "            COLS_PRICE, COLS_PRICE_OTHER, COLS_AMOUNT\n",
    "            ]\n",
    "\n",
    "\n",
    "# 读取excel文件并获取指定列\n",
    "df = pd.read_csv('../Data/竞争站分析-竞争站-单站-32801817.csv', usecols=COLS_ALL, encoding='GBK')\n",
    "print(df.head())\n"
   ]
  },
  {
   "cell_type": "code",
   "execution_count": null,
   "metadata": {},
   "outputs": [],
   "source": [
    "### STEP2：特征处理 ###"
   ]
  },
  {
   "cell_type": "code",
   "execution_count": null,
   "metadata": {},
   "outputs": [],
   "source": [
    "### STEP3：\n",
    "\n",
    "# 假设 dataset 是包含吸烟和肺癌数据的 DataFrame\n",
    "causal_graph = dowhy.CausalGraph(data=dataset)\n",
    "causal_graph.add_variable(parent_list=[\"Smoking\"], child=\"LungCancer\")"
   ]
  }
 ],
 "metadata": {
  "language_info": {
   "name": "python"
  }
 },
 "nbformat": 4,
 "nbformat_minor": 2
}
