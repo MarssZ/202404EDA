{
 "cells": [
  {
   "cell_type": "code",
   "execution_count": 21,
   "metadata": {},
   "outputs": [],
   "source": [
    "# 因果推断\n",
    "# 竞争站点价差、或价格，或价格变化是否对我方整体销量/石油/柴油构成影响\n"
   ]
  },
  {
   "cell_type": "code",
   "execution_count": 22,
   "metadata": {},
   "outputs": [
    {
     "name": "stdout",
     "output_type": "stream",
     "text": [
      "       date  进站加油车量（柴油）  60000359_price 60000359_price_other  60000359_amount\n",
      "0  2023/1/1          12            7.20         [5.07, 7.20]        186516.28\n",
      "1  2023/1/2          22            7.20         [5.07, 7.20]        247329.50\n",
      "2  2023/1/3          13            7.20         [5.07, 7.20]        314626.46\n",
      "3  2023/1/4           7            7.41   [5.07, 7.21, 7.41]         18120.33\n",
      "4  2023/1/5          19            7.41         [5.07, 7.41]         98104.99\n"
     ]
    }
   ],
   "source": [
    "### STEP1：读取数据 ###\n",
    "\n",
    "import pandas as pd\n",
    "from IPython.display import Image, display\n",
    "\n",
    "COLS_DATE = 'date'\n",
    "COLS_PRICE = '60000359_price'                   #92号国六B\n",
    "COLS_PRICE_OTHER = '60000359_price_other'\n",
    "\n",
    "\n",
    "COLS_X= '进站加油车量（柴油）'\n",
    "COLS_Y = '60000359_amount'  \n",
    "\n",
    "# COLS_CAR_FLOW = '进站加油车量（汽油）'\n",
    "COLS_ALL = [COLS_DATE, \n",
    "            COLS_X,\n",
    "            COLS_PRICE, COLS_PRICE_OTHER, COLS_Y\n",
    "            ]\n",
    "\n",
    "\n",
    "# 读取excel文件并获取指定列\n",
    "df = pd.read_csv('../Data/竞争站分析-竞争站-单站-32801817.csv', usecols=COLS_ALL, encoding='GBK')\n",
    "print(df.head())\n"
   ]
  },
  {
   "cell_type": "code",
   "execution_count": 23,
   "metadata": {},
   "outputs": [
    {
     "name": "stdout",
     "output_type": "stream",
     "text": [
      "     进站加油车量（柴油）  60000359_price 60000359_price_other  60000359_amount\n",
      "0            12            7.20         [5.07, 7.20]        186516.28\n",
      "1            22            7.20         [5.07, 7.20]        247329.50\n",
      "2            13            7.20         [5.07, 7.20]        314626.46\n",
      "3             7            7.41   [5.07, 7.21, 7.41]         18120.33\n",
      "4            19            7.41         [5.07, 7.41]         98104.99\n",
      "..          ...             ...                  ...              ...\n",
      "360          10            7.16   [5.07, 7.01, 7.16]         27688.39\n",
      "361          17            7.16   [5.07, 7.01, 7.16]         57224.09\n",
      "362           9            7.16   [5.07, 7.01, 7.16]         37587.56\n",
      "363          13            7.16   [5.07, 7.01, 7.16]        187284.47\n",
      "364          13            7.16   [5.07, 7.01, 7.16]         25848.79\n",
      "\n",
      "[365 rows x 4 columns]\n"
     ]
    }
   ],
   "source": [
    "### STEP2：特征处理 ###\n",
    "df = df.drop(columns=[COLS_DATE], axis=1)\n",
    "print(df)"
   ]
  },
  {
   "cell_type": "code",
   "execution_count": 28,
   "metadata": {},
   "outputs": [
    {
     "name": "stdout",
     "output_type": "stream",
     "text": [
      "Estimand type: EstimandType.NONPARAMETRIC_ATE\n",
      "\n",
      "### Estimand : 1\n",
      "Estimand name: backdoor\n",
      "Estimand expression:\n",
      "  d                       \n",
      "─────(E[y|W3,W2,W1,W0,W4])\n",
      "d[v₀]                     \n",
      "Estimand assumption 1, Unconfoundedness: If U→{v0} and U→y then P(y|v0,W3,W2,W1,W0,W4,U) = P(y|v0,W3,W2,W1,W0,W4)\n",
      "\n",
      "### Estimand : 2\n",
      "Estimand name: iv\n",
      "Estimand expression:\n",
      " ⎡                              -1⎤\n",
      " ⎢    d        ⎛    d          ⎞  ⎥\n",
      "E⎢─────────(y)⋅⎜─────────([v₀])⎟  ⎥\n",
      " ⎣d[Z₀  Z₁]    ⎝d[Z₀  Z₁]      ⎠  ⎦\n",
      "Estimand assumption 1, As-if-random: If U→→y then ¬(U →→{Z0,Z1})\n",
      "Estimand assumption 2, Exclusion: If we remove {Z0,Z1}→{v0}, then ¬({Z0,Z1}→y)\n",
      "\n",
      "### Estimand : 3\n",
      "Estimand name: frontdoor\n",
      "No such variable(s) found!\n",
      "\n"
     ]
    }
   ],
   "source": [
    "from dowhy import CausalModel\n",
    "import dowhy.datasets\n",
    "\n",
    "# Load some sample data\n",
    "data = dowhy.datasets.linear_dataset(\n",
    "    beta=10,\n",
    "    num_common_causes=5,\n",
    "    num_instruments=2,\n",
    "    num_samples=10000,\n",
    "    treatment_is_binary=True)\n",
    "\n",
    "# I. Create a causal model from the data and given graph.\n",
    "model = CausalModel(\n",
    "    data=data[\"df\"],\n",
    "    treatment=data[\"treatment_name\"],\n",
    "    outcome=data[\"outcome_name\"],\n",
    "    graph=data[\"gml_graph\"])  # Or alternatively, as nx.DiGraph\n",
    "\n",
    "# II. Identify causal effect and return target estimands\n",
    "identified_estimand = model.identify_effect()\n",
    "print(identified_estimand)\n",
    "\n",
    "# III. Estimate the target estimand using a statistical method.\n",
    "estimate = model.estimate_effect(identified_estimand,\n",
    "                                 method_name=\"backdoor.propensity_score_matching\")\n",
    "\n",
    "# IV. Refute the obtained estimate using multiple robustness checks.\n",
    "refute_results = model.refute_estimate(identified_estimand, estimate,\n",
    "                                       method_name=\"random_common_cause\")"
   ]
  }
 ],
 "metadata": {
  "language_info": {
   "name": "python"
  }
 },
 "nbformat": 4,
 "nbformat_minor": 2
}
