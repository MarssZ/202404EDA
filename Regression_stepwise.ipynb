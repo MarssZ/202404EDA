{
 "cells": [
  {
   "cell_type": "code",
   "execution_count": 1,
   "metadata": {},
   "outputs": [
    {
     "name": "stdout",
     "output_type": "stream",
     "text": [
      "          date  order_cnt        amount text_day text_night  high  low wc_day  \\\n",
      "0     2023-1-1     893054  2.641542e+08        阴          阴     8    5    <3级   \n",
      "1     2023-1-2    1042898  3.133427e+08        阴         多云     9    0    <3级   \n",
      "2     2023-1-3    1174827  3.669793e+08       多云         多云     9    0    <3级   \n",
      "3     2023-1-4     863885  2.660003e+08       多云         多云    12    3   3~4级   \n",
      "4     2023-1-5     885530  2.761225e+08       多云         多云    13    2    <3级   \n",
      "..         ...        ...           ...      ...        ...   ...  ...    ...   \n",
      "146  2023-5-27     152688  6.893097e+07      雷阵雨          阴    27   22   3~4级   \n",
      "147  2023-5-28     144274  6.454768e+07        雾        雷阵雨    36   23   4~5级   \n",
      "148  2023-5-29     188121  8.248444e+07       阵雨          阴    32   22   3~4级   \n",
      "149  2023-5-30      10435  5.425916e+06       小雨          阴    22   20   3~4级   \n",
      "150  2023-5-31          1  2.829200e+02        阴         多云    25   20    <3级   \n",
      "\n",
      "    wd_day wc_night wd_night week  \n",
      "0       东风      <3级      东北风  星期日  \n",
      "1       北风      <3级       东风  星期一  \n",
      "2      东南风      <3级       东风  星期二  \n",
      "3      东南风      <3级       东风  星期三  \n",
      "4       南风      <3级       西风  星期四  \n",
      "..     ...      ...      ...  ...  \n",
      "146     南风      <3级       南风  星期六  \n",
      "147     北风      <3级      西北风  星期日  \n",
      "148     北风      <3级      东北风  星期一  \n",
      "149     北风      <3级      东北风  星期二  \n",
      "150    东北风      <3级       东风  星期三  \n",
      "\n",
      "[151 rows x 12 columns]\n"
     ]
    }
   ],
   "source": [
    "import pandas as pd\n",
    "\n",
    "# 读取excel文件并获取指定列\n",
    "#df = pd.read_csv('Data\\store_6922.csv', usecols=['dt', 'amt', 'discount_amount', 'pay_amount', 'num', 'discount', 'discount_percent', 'workdays', 'holidays', 'weekdays', 'text_day', 'text_night', 'high', 'low', 'high_low', 'wc_day'], encoding='GBK')\n",
    "df = pd.read_csv('Data\\结果1_全站按日数据_最近2年数据.csv', usecols=['date', 'amount', 'order_cnt', 'text_day', 'text_night', 'high', 'low', 'wc_day', 'wd_day', 'wc_night', 'wd_night', 'week'], encoding='GBK')\n",
    "print(df)\n",
    "# 数据预处理\n",
    "# 假设 'date' 是日期列，我们将其转换为日期类型\n",
    "df['date'] = pd.to_datetime(df['date'])\n"
   ]
  },
  {
   "cell_type": "code",
   "execution_count": 2,
   "metadata": {},
   "outputs": [
    {
     "name": "stdout",
     "output_type": "stream",
     "text": [
      "  feature       VIF\n",
      "0    high  8.753922\n",
      "1     low  8.753922\n"
     ]
    }
   ],
   "source": [
    "import statsmodels.api as sm\n",
    "from statsmodels.formula.api import ols\n",
    "from statsmodels.stats.outliers_influence import variance_inflation_factor\n",
    "\n",
    "# 首先，你可能需要检查多重共线性，可以使用方差膨胀因子（Variance Inflation Factor, VIF）\n",
    "COLS_X = df[[ 'high', 'low']]  # 选择所有可能的预测变量\n",
    "vif = pd.DataFrame()\n",
    "vif[\"feature\"] = COLS_X.columns\n",
    "vif[\"VIF\"] = [variance_inflation_factor(COLS_X.values, i) for i in range(COLS_X.shape[1])]\n",
    "print(vif)"
   ]
  }
 ],
 "metadata": {
  "kernelspec": {
   "display_name": "Python 3",
   "language": "python",
   "name": "python3"
  },
  "language_info": {
   "codemirror_mode": {
    "name": "ipython",
    "version": 3
   },
   "file_extension": ".py",
   "mimetype": "text/x-python",
   "name": "python",
   "nbconvert_exporter": "python",
   "pygments_lexer": "ipython3",
   "version": "3.12.2"
  }
 },
 "nbformat": 4,
 "nbformat_minor": 2
}
