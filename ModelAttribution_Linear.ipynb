{
 "cells": [
  {
   "cell_type": "code",
   "execution_count": 108,
   "metadata": {},
   "outputs": [
    {
     "name": "stderr",
     "output_type": "stream",
     "text": [
      "<>:12: SyntaxWarning: invalid escape sequence '\\s'\n",
      "<>:12: SyntaxWarning: invalid escape sequence '\\s'\n",
      "C:\\Users\\admin\\AppData\\Local\\Temp\\ipykernel_26348\\545906134.py:12: SyntaxWarning: invalid escape sequence '\\s'\n",
      "  df = pd.read_csv('Data\\store_6922.csv', usecols=['dt', 'amt', 'discount_amount', 'pay_amount', 'num', 'discount', 'discount_percent', 'workdays', 'holidays', 'weekdays', 'text_day', 'text_night', 'high', 'low', 'high_low'], encoding='GBK')\n"
     ]
    }
   ],
   "source": [
    "import pandas as pd\n",
    "import numpy as np\n",
    "from scipy.stats import norm\n",
    "\n",
    "# 归因模型：线性归因 ModelAttribution_Linear\n",
    "\n",
    "# 超参数\n",
    "SIGN_LINER = 0.7 #判断是否线性相关的显著性\n",
    "SIGN_PVALUE = 0.05 #判断pValue的显著性\n",
    "\n",
    "# 读取excel文件并获取指定列\n",
    "df = pd.read_csv('Data\\store_6922.csv', usecols=['dt', 'amt', 'discount_amount', 'pay_amount', 'num', 'discount', 'discount_percent', 'workdays', 'holidays', 'weekdays', 'text_day', 'text_night', 'high', 'low', 'high_low', 'wc_day'], encoding='GBK')\n",
    "#print(df)"
   ]
  },
  {
   "cell_type": "code",
   "execution_count": 109,
   "metadata": {},
   "outputs": [
    {
     "name": "stdout",
     "output_type": "stream",
     "text": [
      "待归因的值为第[13]行的‘high_low’值为：10\n",
      "正在分析...造成第[13]行的‘high_low’值为：10 的原因，是否与[amt]相关\n"
     ]
    }
   ],
   "source": [
    "# 等待用户输入一个索引值和列名，在df中取出对应值。\n",
    "value_index = input(\"待归因值的Index：\")\n",
    "value_column = input(\"待归因值的列名：\")\n",
    "value_cell = df.loc[int(value_index),value_column]\n",
    "print(\"待归因的值为第[%s]行的‘%s’值为：%s\"% (value_index, value_column, value_cell))\n",
    "\n",
    "# 等待用户输入一个假设与待归因值有 线性关系 的 列名\n",
    "value_column_liner = input(\"待分析的列名：\")\n",
    "print(\"正在分析...造成第[%s]行的‘%s’值为：%s 的原因，是否与[%s]相关\"% (value_index, value_column, value_cell, value_column_liner))"
   ]
  },
  {
   "cell_type": "code",
   "execution_count": 110,
   "metadata": {},
   "outputs": [
    {
     "data": {
      "image/png": "[encoded data removed]",
      "text/plain": [
       "<Figure size 640x480 with 1 Axes>"
      ]
     },
     "metadata": {},
     "output_type": "display_data"
    }
   ],
   "source": [
    "#画出散点图\n",
    "import matplotlib.pyplot as plt\n",
    "\n",
    "# 设置字体，确保能正确显示汉字\n",
    "plt.rcParams['font.sans-serif'] = ['SimHei']  # 设置中文字体\n",
    "\n",
    "# 绘制散点图\n",
    "plt.scatter(df[value_column], df[value_column_liner])\n",
    "\n",
    "# 添加标题和坐标轴标签\n",
    "plt.title(value_column_liner+' vs '+value_column)\n",
    "plt.xlabel(value_column)\n",
    "plt.ylabel(value_column_liner)\n",
    "\n",
    "# 显示图形\n",
    "plt.show()\n"
   ]
  },
  {
   "cell_type": "code",
   "execution_count": 111,
   "metadata": {},
   "outputs": [
    {
     "name": "stdout",
     "output_type": "stream",
     "text": [
      "线性关系强度不足, 显著性为 0.08754056088710575\n"
     ]
    }
   ],
   "source": [
    "# 计算相关系数\n",
    "corr = df[value_column].corr(df[value_column_liner])\n",
    "\n",
    "# 判断线性关系强度\n",
    "if corr > SIGN_LINER:\n",
    "    print(\"具有强正向线性关系, 显著性为\", corr)\n",
    "elif corr < -SIGN_LINER:\n",
    "    print(\"具有强负向线性关系, 显著性为\", corr)\n",
    "else:\n",
    "    print(\"线性关系强度不足, 显著性为\", corr)"
   ]
  },
  {
   "cell_type": "code",
   "execution_count": 112,
   "metadata": {},
   "outputs": [
    {
     "name": "stdout",
     "output_type": "stream",
     "text": [
      "target_x: 10\n",
      "target_y: 3797090.69\n",
      "斜率: 112431.39404768847\n",
      "截距: 5034364.11200058\n"
     ]
    }
   ],
   "source": [
    "# 拟合出 两者相关性的线性 函数\n",
    "\n",
    "# 在拟合前，把待归因单元格的相关数据取出来，之后从df表中剔除掉待分析行的数据\n",
    "target_x = df.loc[int(value_index),value_column]\n",
    "target_y = df.loc[int(value_index),value_column_liner]\n",
    "df = df.drop(int(value_index), axis=0)\n",
    "print(\"target_x:\", target_x)\n",
    "print(\"target_y:\", target_y)\n",
    "\n",
    "# 使用最小二乘法拟合数据\n",
    "column_x = df[value_column]\n",
    "column_y = df[value_column_liner]\n",
    "coefficients = np.polyfit(column_x, column_y, 1)\n",
    "\n",
    "# 提取斜率和截距\n",
    "slope = coefficients[0]\n",
    "intercept = coefficients[1]\n",
    "\n",
    "# 打印拟合出的线性函数的参数\n",
    "print(\"斜率:\", slope)\n",
    "print(\"截距:\", intercept)"
   ]
  },
  {
   "cell_type": "code",
   "execution_count": 113,
   "metadata": {},
   "outputs": [
    {
     "name": "stdout",
     "output_type": "stream",
     "text": [
      "            dt          amt  discount_amount   pay_amount    num  discount  \\\n",
      "0    2024-4-17   3804652.56       3803782.16   3482546.56   4675  322106.0   \n",
      "1    2024-4-16   3216893.59       3216133.84   3013320.59   4610  203573.0   \n",
      "2    2024-4-15   3033223.52       3068796.02   2807851.52   3586  225372.0   \n",
      "3    2024-4-14   3099303.65       3099058.65   2911070.65   4357  188233.0   \n",
      "4    2024-4-13   4124829.36       4124510.86   3808599.36   4659  316230.0   \n",
      "..         ...          ...              ...          ...    ...       ...   \n",
      "194  2023-10-6  11190209.64      11201245.64  10590161.14  10132  600048.5   \n",
      "195  2023-10-5  10717180.99      10717540.99  10088004.99  11565  629176.0   \n",
      "196  2023-10-4  13226406.15      13227134.15  12417868.15  15602  808538.0   \n",
      "197  2023-10-3  13883625.89      13883642.69  13042151.89  16104  841474.0   \n",
      "198  2023-10-2  11461233.51      11466930.74  10873012.51  13470  588221.0   \n",
      "\n",
      "     discount_percent  workdays holidays  weekdays text_day text_night  high  \\\n",
      "0            0.084661         1       平时         3       多云         多云    37   \n",
      "1            0.063282         1       平时         2       多云         多云    35   \n",
      "2            0.074301         1       平时         1       多云         多云    36   \n",
      "3            0.060734         0       平时         7       多云         多云    34   \n",
      "4            0.076665         0       平时         6       多云         多云    32   \n",
      "..                ...       ...      ...       ...      ...        ...   ...   \n",
      "194          0.053623         1      国庆节         5       中雨         多云    30   \n",
      "195          0.058707         1      国庆节         4       多云         多云    33   \n",
      "196          0.061131         1      国庆节         3       多云         多云    33   \n",
      "197          0.060609         1      国庆节         2        阴         多云    31   \n",
      "198          0.051323         1      国庆节         1        阴         多云    31   \n",
      "\n",
      "     low  high_low  prediction_x_values  prediction_residuals  \n",
      "0     25        12               -10.94                -22.94  \n",
      "1     25        10               -16.17                -26.17  \n",
      "2     24        12               -17.80                -29.80  \n",
      "3     24        10               -17.21                -27.21  \n",
      "4     22        10                -8.09                -18.09  \n",
      "..   ...       ...                  ...                   ...  \n",
      "194   24         6                54.75                 48.75  \n",
      "195   25         8                50.54                 42.54  \n",
      "196   25         8                72.86                 64.86  \n",
      "197   25         6                78.71                 72.71  \n",
      "198   25         6                57.16                 51.16  \n",
      "\n",
      "[198 rows x 17 columns]\n"
     ]
    }
   ],
   "source": [
    "# 通过函数 预测一遍新的x值， 放入Column: prediction_x_values\n",
    "\n",
    "# 计算新的 x 值 , 并将新的 x 值作为新的一列添加到 DataFrame \n",
    "df['prediction_x_values'] = round((df[value_column_liner] - intercept) / slope , 2)\n",
    "\n",
    "# 计算预测值x与实际值x的残差值， 并添加新的一列到 DataFrame\n",
    "df['prediction_residuals'] = df['prediction_x_values'] - df[value_column]\n",
    "\n",
    "# 打印更新后的 DataFrame\n",
    "print(df)"
   ]
  },
  {
   "cell_type": "code",
   "execution_count": 114,
   "metadata": {},
   "outputs": [
    {
     "name": "stdout",
     "output_type": "stream",
     "text": [
      "mean均值为: -0.0005050505050503328\n",
      "std标准差为: 28.296781195173956\n"
     ]
    }
   ],
   "source": [
    "# 计算 残差值 高斯分布\n",
    "mean, std = norm.fit(df['prediction_residuals'])\n",
    "print(\"mean均值为:\",mean)\n",
    "print(\"std标准差为:\",std)"
   ]
  },
  {
   "cell_type": "code",
   "execution_count": 115,
   "metadata": {},
   "outputs": [
    {
     "name": "stdout",
     "output_type": "stream",
     "text": [
      "target_y: 3797090.69\n",
      "predict_value: -11.0\n",
      "target_x: 10\n",
      "diff_max: -21.0\n",
      "diff_max_modifer: -31.26\n",
      "***【线性相关可能性为0.26928897900415394】：我们可以确定是由[amt]列引起的异常***\n"
     ]
    }
   ],
   "source": [
    "# 计算 给定值X和给定数据数组之间的显著性\n",
    "\n",
    "# 预测值与实际值的差值\n",
    "predict_value = round((target_y - intercept) / slope,2)\n",
    "diff_max = predict_value - target_x\n",
    "print(\"target_y:\",target_y)\n",
    "print(\"predict_value:\",predict_value)\n",
    "print(\"target_x:\",target_x)\n",
    "print(\"diff_max:\",diff_max)\n",
    "\n",
    "#将diff_max进行线性缩放 （不然如果待分析列过大，会导致误差过大，导致结构不准）\n",
    "mean_y = df[value_column_liner].mean()\n",
    "diff_max_modifer= round(diff_max / (target_y / mean_y),2)\n",
    "print(\"diff_max_modifer:\",diff_max_modifer)\n",
    "\n",
    "# 计算z-score， Z-Score标准化是数据处理的一种常用方法。通过它能够将不同量级的数据转化为统一量度的Z-Score分值进行比较。\n",
    "z = (diff_max_modifer - mean) / std\n",
    "\n",
    "# p_value为双尾P值。norm.cdf()函数可以用来计算z-score对应的概率值（CDF），因为z-score遵循标准正态分布（均值为0，标准差为1）\n",
    "p_value = 2 * (1 - norm.cdf(abs(z)))\n",
    "\n",
    "\n",
    "if p_value < SIGN_PVALUE:\n",
    "    print(f\"***【线性相关可能性为{p_value}】：说明待归因值的异常与[{value_column_liner}]列无关***\")\n",
    "else:\n",
    "    print(f\"***【线性相关可能性为{p_value}】：我们可以确定是由[{value_column_liner}]列引起的异常***\")\n"
   ]
  }
 ],
 "metadata": {
  "kernelspec": {
   "display_name": "Python 3",
   "language": "python",
   "name": "python3"
  },
  "language_info": {
   "codemirror_mode": {
    "name": "ipython",
    "version": 3
   },
   "file_extension": ".py",
   "mimetype": "text/x-python",
   "name": "python",
   "nbconvert_exporter": "python",
   "pygments_lexer": "ipython3",
   "version": "3.12.2"
  }
 },
 "nbformat": 4,
 "nbformat_minor": 2
}
