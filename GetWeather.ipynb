{
 "cells": [
  {
   "cell_type": "code",
   "execution_count": 16,
   "metadata": {},
   "outputs": [
    {
     "name": "stdout",
     "output_type": "stream",
     "text": [
      "{\"status\":0,\"result\":{\"location\":{\"areacode\":\"101310101\",\"name\":\"海口\",\"country\":\"中国\",\"path\":\"海口,海口市,海南省,中国\"},\"hisWeather\":[{\"text_day\":\"阴\",\"code_day\":\"02\",\"text_night\":\"多云\",\"code_night\":\"01\",\"high\":31,\"low\":25,\"wc_day\":\"3~4级\",\"wd_day\":\"北风\",\"wc_night\":\"<3级\",\"wd_night\":\"无持续风向\",\"date\":\"2023-10-02\",\"week\":\"星期一\"},{\"text_day\":\"阴\",\"code_day\":\"02\",\"text_night\":\"多云\",\"code_night\":\"01\",\"high\":31,\"low\":25,\"wc_day\":\"3~4级\",\"wd_day\":\"东南风\",\"wc_night\":\"<3级\",\"wd_night\":\"无持续风向\",\"date\":\"2023-10-03\",\"week\":\"星期二\"},{\"text_day\":\"多云\",\"code_day\":\"01\",\"text_night\":\"多云\",\"code_night\":\"01\",\"high\":33,\"low\":25,\"wc_day\":\"<3级\",\"wd_day\":\"北风\",\"wc_night\":\"<3级\",\"wd_night\":\"无持续风向\",\"date\":\"2023-10-04\",\"week\":\"星期三\"},{\"text_day\":\"多云\",\"code_day\":\"01\",\"text_night\":\"多云\",\"code_night\":\"01\",\"high\":33,\"low\":25,\"wc_day\":\"3~4级\",\"wd_day\":\"西北风\",\"wc_night\":\"<3级\",\"wd_night\":\"无持续风向\",\"date\":\"2023-10-05\",\"week\":\"星期四\"},{\"text_day\":\"中雨\",\"code_day\":\"08\",\"text_night\":\"多云\",\"code_night\":\"01\",\"high\":30,\"low\":24,\"wc_day\":\"3~4级\",\"wd_day\":\"东北风\",\"wc_night\":\"<3级\",\"wd_night\":\"无持续风向\",\"date\":\"2023-10-06\",\"week\":\"星期五\"},{\"text_day\":\"阴\",\"code_day\":\"02\",\"text_night\":\"多云\",\"code_night\":\"01\",\"high\":31,\"low\":25,\"wc_day\":\"3~4级\",\"wd_day\":\"西风\",\"wc_night\":\"<3级\",\"wd_night\":\"无持续风向\",\"date\":\"2023-10-07\",\"week\":\"星期六\"},{\"text_day\":\"阴\",\"code_day\":\"02\",\"text_night\":\"多云\",\"code_night\":\"01\",\"high\":28,\"low\":24,\"wc_day\":\"3~4级\",\"wd_day\":\"西北风\",\"wc_night\":\"<3级\",\"wd_night\":\"无持续风向\",\"date\":\"2023-10-08\",\"week\":\"星期日\"},{\"text_day\":\"阴\",\"code_day\":\"02\",\"text_night\":\"雷阵雨\",\"code_night\":\"04\",\"high\":28,\"low\":25,\"wc_day\":\"<3级\",\"wd_day\":\"北风\",\"wc_night\":\"<3级\",\"wd_night\":\"无持续风向\",\"date\":\"2023-10-09\",\"week\":\"星期一\"},{\"text_day\":\"中雨\",\"code_day\":\"08\",\"text_night\":\"暴雨\",\"code_night\":\"10\",\"high\":28,\"low\":23,\"wc_day\":\"3~4级\",\"wd_day\":\"北风\",\"wc_night\":\"<3级\",\"wd_night\":\"无持续风向\",\"date\":\"2023-10-10\",\"week\":\"星期二\"},{\"text_day\":\"暴雨\",\"code_day\":\"10\",\"text_night\":\"大雨\",\"code_night\":\"09\",\"high\":25,\"low\":23,\"wc_day\":\"3~4级\",\"wd_day\":\"东南风\",\"wc_night\":\"3~4级\",\"wd_night\":\"东风\",\"date\":\"2023-10-11\",\"week\":\"星期三\"},{\"text_day\":\"小雨\",\"code_day\":\"07\",\"text_night\":\"多云\",\"code_night\":\"01\",\"high\":26,\"low\":24,\"wc_day\":\"3~4级\",\"wd_day\":\"东北风\",\"wc_night\":\"3~4级\",\"wd_night\":\"东风\",\"date\":\"2023-10-12\",\"week\":\"星期四\"},{\"text_day\":\"阴\",\"code_day\":\"02\",\"text_night\":\"多云\",\"code_night\":\"01\",\"high\":28,\"low\":25,\"wc_day\":\"3~4级\",\"wd_day\":\"东风\",\"wc_night\":\"3~4级\",\"wd_night\":\"东北风\",\"date\":\"2023-10-13\",\"week\":\"星期五\"},{\"text_day\":\"阴\",\"code_day\":\"02\",\"text_night\":\"小雨\",\"code_night\":\"07\",\"high\":28,\"low\":24,\"wc_day\":\"3~4级\",\"wd_day\":\"东北风\",\"wc_night\":\"3~4级\",\"wd_night\":\"东北风\",\"date\":\"2023-10-14\",\"week\":\"星期六\"},{\"text_day\":\"阴\",\"code_day\":\"02\",\"text_night\":\"小雨\",\"code_night\":\"07\",\"high\":29,\"low\":24,\"wc_day\":\"3~4级\",\"wd_day\":\"东北风\",\"wc_night\":\"4~5级\",\"wd_night\":\"东北风\",\"date\":\"2023-10-15\",\"week\":\"星期日\"},{\"text_day\":\"阴\",\"code_day\":\"02\",\"text_night\":\"大雨\",\"code_night\":\"09\",\"high\":28,\"low\":23,\"wc_day\":\"3~4级\",\"wd_day\":\"东北风\",\"wc_night\":\"4~5级\",\"wd_night\":\"东北风\",\"date\":\"2023-10-16\",\"week\":\"星期一\"},{\"text_day\":\"小雨\",\"code_day\":\"07\",\"text_night\":\"中雨\",\"code_night\":\"08\",\"high\":26,\"low\":23,\"wc_day\":\"3~4级\",\"wd_day\":\"东北风\",\"wc_night\":\"<3级\",\"wd_night\":\"无持续风向\",\"date\":\"2023-10-17\",\"week\":\"星期二\"},{\"text_day\":\"大雨\",\"code_day\":\"09\",\"text_night\":\"大雨\",\"code_night\":\"09\",\"high\":28,\"low\":24,\"wc_day\":\"3~4级\",\"wd_day\":\"东风\",\"wc_night\":\"4~5级\",\"wd_night\":\"东南风\",\"date\":\"2023-10-18\",\"week\":\"星期三\"},{\"text_day\":\"小雨\",\"code_day\":\"07\",\"text_night\":\"小雨\",\"code_night\":\"07\",\"high\":29,\"low\":26,\"wc_day\":\"3~4级\",\"wd_day\":\"东南风\",\"wc_night\":\"<3级\",\"wd_night\":\"无持续风向\",\"date\":\"2023-10-19\",\"week\":\"星期四\"},{\"text_day\":\"阴\",\"code_day\":\"02\",\"text_night\":\"大雨\",\"code_night\":\"09\",\"high\":26,\"low\":23,\"wc_day\":\"3~4级\",\"wd_day\":\"西南风\",\"wc_night\":\"<3级\",\"wd_night\":\"无持续风向\",\"date\":\"2023-10-20\",\"week\":\"星期五\"},{\"text_day\":\"大暴雨\",\"code_day\":\"11\",\"text_night\":\"小雨\",\"code_night\":\"07\",\"high\":23,\"low\":22,\"wc_day\":\"3~4级\",\"wd_day\":\"东风\",\"wc_night\":\"3~4级\",\"wd_night\":\"东北风\",\"date\":\"2023-10-21\",\"week\":\"星期六\"},{\"text_day\":\"中雨\",\"code_day\":\"08\",\"text_night\":\"中雨\",\"code_night\":\"08\",\"high\":23,\"low\":22,\"wc_day\":\"3~4级\",\"wd_day\":\"东风\",\"wc_night\":\"3~4级\",\"wd_night\":\"东北风\",\"date\":\"2023-10-22\",\"week\":\"星期日\"},{\"text_day\":\"阴\",\"code_day\":\"02\",\"text_night\":\"中雨\",\"code_night\":\"08\",\"high\":25,\"low\":24,\"wc_day\":\"3~4级\",\"wd_day\":\"东北风\",\"wc_night\":\"3~4级\",\"wd_night\":\"东风\",\"date\":\"2023-10-23\",\"week\":\"星期一\"},{\"text_day\":\"阴\",\"code_day\":\"02\",\"text_night\":\"小雨\",\"code_night\":\"07\",\"high\":26,\"low\":24,\"wc_day\":\"3~4级\",\"wd_day\":\"东北风\",\"wc_night\":\"<3级\",\"wd_night\":\"无持续风向\",\"date\":\"2023-10-24\",\"week\":\"星期二\"},{\"text_day\":\"阴\",\"code_day\":\"02\",\"text_night\":\"小雨\",\"code_night\":\"07\",\"high\":29,\"low\":24,\"wc_day\":\"3~4级\",\"wd_day\":\"东北风\",\"wc_night\":\"<3级\",\"wd_night\":\"无持续风向\",\"date\":\"2023-10-25\",\"week\":\"星期三\"},{\"text_day\":\"小雨\",\"code_day\":\"07\",\"text_night\":\"小雨\",\"code_night\":\"07\",\"high\":27,\"low\":23,\"wc_day\":\"3~4级\",\"wd_day\":\"东北风\",\"wc_night\":\"<3级\",\"wd_night\":\"无持续风向\",\"date\":\"2023-10-26\",\"week\":\"星期四\"},{\"text_day\":\"阴\",\"code_day\":\"02\",\"text_night\":\"小雨\",\"code_night\":\"07\",\"high\":29,\"low\":23,\"wc_day\":\"3~4级\",\"wd_day\":\"东北风\",\"wc_night\":\"<3级\",\"wd_night\":\"无持续风向\",\"date\":\"2023-10-27\",\"week\":\"星期五\"},{\"text_day\":\"大雨\",\"code_day\":\"09\",\"text_night\":\"雷阵雨\",\"code_night\":\"04\",\"high\":26,\"low\":23,\"wc_day\":\"3~4级\",\"wd_day\":\"东风\",\"wc_night\":\"<3级\",\"wd_night\":\"无持续风向\",\"date\":\"2023-10-28\",\"week\":\"星期六\"},{\"text_day\":\"阴\",\"code_day\":\"02\",\"text_night\":\"小雨\",\"code_night\":\"07\",\"high\":29,\"low\":25,\"wc_day\":\"3~4级\",\"wd_day\":\"东风\",\"wc_night\":\"3~4级\",\"wd_night\":\"东北风\",\"date\":\"2023-10-29\",\"week\":\"星期日\"},{\"text_day\":\"阴\",\"code_day\":\"02\",\"text_night\":\"多云\",\"code_night\":\"01\",\"high\":27,\"low\":24,\"wc_day\":\"3~4级\",\"wd_day\":\"东北风\",\"wc_night\":\"3~4级\",\"wd_night\":\"东北风\",\"date\":\"2023-10-30\",\"week\":\"星期一\"},{\"text_day\":\"阴\",\"code_day\":\"02\",\"text_night\":\"多云\",\"code_night\":\"01\",\"high\":27,\"low\":24,\"wc_day\":\"3~4级\",\"wd_day\":\"东北风\",\"wc_night\":\"3~4级\",\"wd_night\":\"东北风\",\"date\":\"2023-10-31\",\"week\":\"星期二\"}]}}\n",
      "响应码： 200\n",
      "DataFrame 的前 5 行：\n",
      "  text_day code_day text_night code_night  high  low wc_day wd_day wc_night  \\\n",
      "0        阴       02         多云         01    31   25   3~4级     北风      <3级   \n",
      "1        阴       02         多云         01    31   25   3~4级    东南风      <3级   \n",
      "2       多云       01         多云         01    33   25    <3级     北风      <3级   \n",
      "3       多云       01         多云         01    33   25   3~4级    西北风      <3级   \n",
      "4       中雨       08         多云         01    30   24   3~4级    东北风      <3级   \n",
      "\n",
      "  wd_night        date week  \n",
      "0    无持续风向  2023-10-02  星期一  \n",
      "1    无持续风向  2023-10-03  星期二  \n",
      "2    无持续风向  2023-10-04  星期三  \n",
      "3    无持续风向  2023-10-05  星期四  \n",
      "4    无持续风向  2023-10-06  星期五  \n",
      "数据已成功保存到 Excel 文件。\n"
     ]
    }
   ],
   "source": [
    "import requests\n",
    "import pandas as pd\n",
    "\n",
    "\n",
    "# 定义请求参数\n",
    "url = \"https://eolink.o.apispace.com/history-weather/query\"\n",
    "\n",
    "payload = {\"areacode\" : \"101310101\",\"inquiry\" : \"duration\",\"start\" : \"20231002\",\"end\" : \"20231031\"}\n",
    "\n",
    "headers = {\n",
    "    \"X-APISpace-Token\":\"ng0qfu09o59beyt2e4r3tecuew8w7go5\"\n",
    "}\n",
    "\n",
    "\n",
    "# 构造 API 请求\n",
    "response=requests.request(\"GET\", url, params=payload, headers=headers)\n",
    "\n",
    "print(response.text)\n",
    "\n",
    "# 检查请求是否成功\n",
    "if response.status_code == 200:\n",
    "    # 打印请求的响应码\n",
    "    print(\"响应码：\", response.status_code)\n",
    "    data = response.json()\n",
    "\n",
    "    # 提取 hisWeather 中的内容\n",
    "    his_weather = data['result']['hisWeather']\n",
    "\n",
    "    # 将数据转换为 DataFrame\n",
    "    df = pd.DataFrame(his_weather)\n",
    "\n",
    "    # 打印 DataFrame 的前 5 行\n",
    "    print(\"DataFrame 的前 5 行：\")\n",
    "    print(df.head())\n",
    "\n",
    "    # 保存到 Excel\n",
    "    df.to_excel('output.xlsx', index=False)\n",
    "    # 打印保存成功的消息\n",
    "    print(\"数据已成功保存到 Excel 文件。\")  \n",
    "else:\n",
    "    print(\"请求失败\")"
   ]
  }
 ],
 "metadata": {
  "kernelspec": {
   "display_name": "Python 3",
   "language": "python",
   "name": "python3"
  },
  "language_info": {
   "codemirror_mode": {
    "name": "ipython",
    "version": 3
   },
   "file_extension": ".py",
   "mimetype": "text/x-python",
   "name": "python",
   "nbconvert_exporter": "python",
   "pygments_lexer": "ipython3",
   "version": "3.12.2"
  }
 },
 "nbformat": 4,
 "nbformat_minor": 2
}
