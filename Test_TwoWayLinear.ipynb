{
 "cells": [
  {
   "cell_type": "code",
   "execution_count": 14,
   "metadata": {},
   "outputs": [
    {
     "name": "stdout",
     "output_type": "stream",
     "text": [
      "          date  order_cnt        amount text_day text_night  high  low wc_day  \\\n",
      "0     2023-1-1     893054  2.641542e+08        阴          阴     8    5    <3级   \n",
      "1     2023-1-2    1042898  3.133427e+08        阴         多云     9    0    <3级   \n",
      "2     2023-1-3    1174827  3.669793e+08       多云         多云     9    0    <3级   \n",
      "3     2023-1-4     863885  2.660003e+08       多云         多云    12    3   3~4级   \n",
      "4     2023-1-5     885530  2.761225e+08       多云         多云    13    2    <3级   \n",
      "..         ...        ...           ...      ...        ...   ...  ...    ...   \n",
      "146  2023-5-27     152688  6.893097e+07      雷阵雨          阴    27   22   3~4级   \n",
      "147  2023-5-28     144274  6.454768e+07        雾        雷阵雨    36   23   4~5级   \n",
      "148  2023-5-29     188121  8.248444e+07       阵雨          阴    32   22   3~4级   \n",
      "149  2023-5-30      10435  5.425916e+06       小雨          阴    22   20   3~4级   \n",
      "150  2023-5-31          1  2.829200e+02        阴         多云    25   20    <3级   \n",
      "\n",
      "    wd_day wc_night wd_night week holidays  \n",
      "0       东风      <3级      东北风  星期日       元旦  \n",
      "1       北风      <3级       东风  星期一       元旦  \n",
      "2      东南风      <3级       东风  星期二       平时  \n",
      "3      东南风      <3级       东风  星期三       平时  \n",
      "4       南风      <3级       西风  星期四       平时  \n",
      "..     ...      ...      ...  ...      ...  \n",
      "146     南风      <3级       南风  星期六       平时  \n",
      "147     北风      <3级      西北风  星期日       平时  \n",
      "148     北风      <3级      东北风  星期一       平时  \n",
      "149     北风      <3级      东北风  星期二       平时  \n",
      "150    东北风      <3级       东风  星期三       平时  \n",
      "\n",
      "[151 rows x 13 columns]\n"
     ]
    }
   ],
   "source": [
    "# 超参数\n",
    "VAULE_X = 'low'\n",
    "VAULE_Y = 'amount'\n",
    "SIGN_LINER = 0.7 #判断是否线性相关的显著性\n",
    "SIGN_PVALUE = 0.05 #判断pValue的显著性\n",
    "\n",
    "import pandas as pd\n",
    "import numpy as np\n",
    "\n",
    "# 读取excel文件并获取指定列\n",
    "#df = pd.read_csv('Data\\store_6922.csv', usecols=['dt', 'amt', 'discount_amount', 'pay_amount', 'num', 'discount', 'discount_percent', 'workdays', 'holidays', 'weekdays', 'text_day', 'text_night', 'high', 'low', 'high_low', 'wc_day'], encoding='GBK')\n",
    "df = pd.read_csv('Data\\结果1_全站按日数据_最近2年数据.csv', usecols=['date', 'amount', 'order_cnt', 'text_day', 'text_night', 'high', 'low', 'wc_day', 'wd_day', 'wc_night', 'wd_night', 'week', 'holidays'], encoding='GBK')\n",
    "print(df)"
   ]
  },
  {
   "cell_type": "code",
   "execution_count": 15,
   "metadata": {},
   "outputs": [
    {
     "name": "stderr",
     "output_type": "stream",
     "text": [
      "C:\\Users\\admin\\AppData\\Roaming\\Python\\Python312\\site-packages\\IPython\\core\\pylabtools.py:152: UserWarning: Glyph 8722 (\\N{MINUS SIGN}) missing from current font.\n",
      "  fig.canvas.print_figure(bytes_io, **kw)\n"
     ]
    },
    {
     "data": {
      "image/png": "[encoded data removed]",
      "text/plain": [
       "<Figure size 640x480 with 1 Axes>"
      ]
     },
     "metadata": {},
     "output_type": "display_data"
    }
   ],
   "source": [
    "#画出散点图\n",
    "import matplotlib.pyplot as plt\n",
    "\n",
    "# 设置字体，确保能正确显示汉字\n",
    "plt.rcParams['font.sans-serif'] = ['SimHei']  # 设置中文字体\n",
    "\n",
    "# 绘制散点图\n",
    "plt.scatter(df[VAULE_X], df[VAULE_Y])\n",
    "\n",
    "# 添加标题和坐标轴标签\n",
    "plt.title(VAULE_X+' vs '+VAULE_Y)\n",
    "plt.xlabel(VAULE_X)\n",
    "plt.ylabel(VAULE_Y)\n",
    "\n",
    "# 显示图形\n",
    "plt.show()"
   ]
  },
  {
   "cell_type": "code",
   "execution_count": 16,
   "metadata": {},
   "outputs": [
    {
     "name": "stdout",
     "output_type": "stream",
     "text": [
      "corr :-0.5187312944948644\n",
      "线性关系强度不足, 显著性为 -0.5187312944948644\n"
     ]
    }
   ],
   "source": [
    "# 计算相关系数\n",
    "corr = df[VAULE_X].corr(df[VAULE_Y])\n",
    "print(corr)\n",
    "# 判断线性关系强度\n",
    "if corr > SIGN_LINER:\n",
    "    print(\"具有强正向线性关系, 显著性为\", corr)\n",
    "elif corr < -SIGN_LINER:\n",
    "    print(\"具有强负向线性关系, 显著性为\", corr)\n",
    "else:\n",
    "    print(\"线性关系强度不足, 显著性为\", corr)"
   ]
  },
  {
   "cell_type": "code",
   "execution_count": 17,
   "metadata": {},
   "outputs": [
    {
     "name": "stdout",
     "output_type": "stream",
     "text": [
      "斜率: -6852478.747358634\n",
      "截距: 195300105.85743847\n"
     ]
    }
   ],
   "source": [
    "# 拟合出 两者相关性的线性 函数\n",
    "\n",
    "# 使用最小二乘法拟合数据\n",
    "column_x = df[VAULE_X]\n",
    "column_y = df[VAULE_Y]\n",
    "coefficients = np.polyfit(column_x, column_y, 1)\n",
    "\n",
    "# 提取斜率和截距\n",
    "slope = coefficients[0]\n",
    "intercept = coefficients[1]\n",
    "\n",
    "# 打印拟合出的线性函数的参数\n",
    "print(\"斜率:\", slope)\n",
    "print(\"截距:\", intercept)"
   ]
  }
 ],
 "metadata": {
  "kernelspec": {
   "display_name": "Python 3",
   "language": "python",
   "name": "python3"
  },
  "language_info": {
   "codemirror_mode": {
    "name": "ipython",
    "version": 3
   },
   "file_extension": ".py",
   "mimetype": "text/x-python",
   "name": "python",
   "nbconvert_exporter": "python",
   "pygments_lexer": "ipython3",
   "version": "3.12.2"
  }
 },
 "nbformat": 4,
 "nbformat_minor": 2
}
