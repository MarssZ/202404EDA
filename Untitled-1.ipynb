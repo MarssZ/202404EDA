{
 "cells": [
  {
   "cell_type": "code",
   "execution_count": 4,
   "metadata": {},
   "outputs": [
    {
     "name": "stdout",
     "output_type": "stream",
     "text": [
      "有1天受涨价前抢购因素影响，有4天受涨价后的价格因素影响, 有4天受降价利好销量提振影响，有2天受降价前持币待购的因素影响\n"
     ]
    }
   ],
   "source": [
    "def generate_label_count_str(label_count_dict):\n",
    "    \"\"\"\n",
    "    根据调价label计数字典生成描述字符串。会把标签分为四大类，涨价利好，涨价利空，降价利好，降价利空。\n",
    "\n",
    "    参数:\n",
    "    label_count_dict (dict): 包含调价label计数的字典。\n",
    "\n",
    "    返回:\n",
    "    str: 描述调价label计数的字符串。\n",
    "    \"\"\"\n",
    "    # 定义涨价和降价相关的标签\n",
    "    increase_labels_add = [\"涨价前两天\", \"涨价前一天\"] #涨价导致销量向上波动的情况\n",
    "    increase_labels_minus = [\"涨价当天\", \"涨价第二天\", \"涨价第三天\", \"涨价第四天\"] #涨价导致销量向下波动的情况\n",
    "    decrease_labels_add = [\"降价当天\", \"降价第一天\", \"降价第二天\", \"降价第三天\"] #降价导致销量向上波动的情况\n",
    "    decrease_labels_minus = [\"降价前两天\", \"降价前一天\"] #降价导致销量向下波动的情况\n",
    "\n",
    "    # 计算涨价和降价相关标签的总天数\n",
    "    increase_count_add = sum(label_count_dict.get(label, 0) for label in increase_labels_add)\n",
    "    increase_count_minus = sum(label_count_dict.get(label, 0) for label in increase_labels_minus)\n",
    "    decrease_count_add = sum(label_count_dict.get(label, 0) for label in decrease_labels_add)\n",
    "    decrease_count_minus = sum(label_count_dict.get(label, 0) for label in decrease_labels_minus)\n",
    "\n",
    "    # 生成描述字符串\n",
    "    result_str = (\n",
    "        f\"有{increase_count_add}天受涨价前抢购因素影响，有{increase_count_minus}天受涨价后的价格因素影响, 有{decrease_count_add}天受降价利好销量提振影响，有{decrease_count_minus}天受降价前持币待购的因素影响\"\n",
    "\n",
    "    )\n",
    "    \n",
    "    # 添加每个标签的计数\n",
    "    # for label, count in label_count_dict.items():\n",
    "    #     result_str += f\"{label}: {count}\\n\"\n",
    "\n",
    "    return result_str\n",
    "\n",
    "# 示例数据\n",
    "label_count_dict = {\n",
    "    \"涨价前一天\": 1,\n",
    "    \"涨价当天\": 1,\n",
    "    \"涨价第二天\": 1,\n",
    "    \"涨价第三天\": 1,\n",
    "    \"涨价第四天\": 1,\n",
    "    \"无价格变动\": 10,\n",
    "    \"降价前两天\": 1,\n",
    "    \"降价前一天\": 1,\n",
    "    \"降价当天\": 1,\n",
    "    \"降价第一天\": 1,\n",
    "    \"降价第二天\": 1,\n",
    "    \"降价第三天\": 1\n",
    "}\n",
    "\n",
    "# 示例调用\n",
    "result = generate_label_count_str(label_count_dict)\n",
    "print(result)"
   ]
  }
 ],
 "metadata": {
  "kernelspec": {
   "display_name": "Python 3",
   "language": "python",
   "name": "python3"
  },
  "language_info": {
   "codemirror_mode": {
    "name": "ipython",
    "version": 3
   },
   "file_extension": ".py",
   "mimetype": "text/x-python",
   "name": "python",
   "nbconvert_exporter": "python",
   "pygments_lexer": "ipython3",
   "version": "3.12.2"
  }
 },
 "nbformat": 4,
 "nbformat_minor": 2
}
