{
 "cells": [
  {
   "cell_type": "code",
   "execution_count": 6,
   "metadata": {},
   "outputs": [
    {
     "name": "stdout",
     "output_type": "stream",
     "text": [
      "           date  order_cnt       amount  refuelLiters text_day text_night  \\\n",
      "359  2023-12-26    1072045  335929197.6   44738960.24        阴         多云   \n",
      "360  2023-12-27    1054896  332618128.4   44334481.65       多云          晴   \n",
      "361  2023-12-28    1032115  323028612.7   42986493.14        晴         多云   \n",
      "362  2023-12-29    1218840  372592734.2   49432247.01       多云         小雨   \n",
      "363  2023-12-30    1126207  341635923.3   45312200.19        阴          晴   \n",
      "\n",
      "     high  low wc_day wd_day wc_night  encoded_wc_night wd_night week  \\\n",
      "359     9    0   3~4级     东风     3~4级                 1       东风  星期二   \n",
      "360    12    0    <3级    西北风      <3级                 0       北风  星期三   \n",
      "361    12    3   3~4级     北风      <3级                 0       东风  星期四   \n",
      "362    12    5   3~4级    东南风      <3级                 0      东南风  星期五   \n",
      "363    14    1    <3级    西南风     4~5级                 2      西北风  星期六   \n",
      "\n",
      "     code_week holidays  encoded_holidays  305_price  313_price  \n",
      "359          2       平时                 4        7.5       7.98  \n",
      "360          3       平时                 4        7.5       7.98  \n",
      "361          4       平时                 4        7.5       7.98  \n",
      "362          5       平时                 4        7.5       7.98  \n",
      "363          6       平时                 4        7.5       7.98  \n"
     ]
    }
   ],
   "source": [
    "#Mannkendall 检验，用来检验一个时间序列变量，是否在时间上具有趋势性。\n",
    "\n",
    "# 超参数\n",
    "COLS_Y = ['amount']\n",
    "COLS_ALL = ['date', 'amount', 'refuelLiters', 'order_cnt', 'text_day', 'text_night', 'high', 'low', 'wc_day', 'wd_day', 'wc_night', 'wd_night', 'week', 'holidays', 'encoded_wc_night', 'code_week', 'encoded_holidays', '305_price','313_price' ]\n",
    "\n",
    "import pandas as pd\n",
    "\n",
    "# 读取excel文件并获取指定列\n",
    "df = pd.read_csv('Data\\结果1_全站按日期分组_2023全年.csv', usecols=COLS_ALL, encoding='GBK')\n",
    "print(df.tail())\n"
   ]
  },
  {
   "cell_type": "code",
   "execution_count": 7,
   "metadata": {},
   "outputs": [
    {
     "name": "stdout",
     "output_type": "stream",
     "text": [
      "Mann_Kendall_Test(trend='increasing', h=True, p=0.00018670112770591274, z=3.7363629544193744, Tau=0.1312021312021312, s=8668.0, var_s=5380708.666666667, slope=87078.1160403477, intercept=344914121.1886769)\n"
     ]
    }
   ],
   "source": [
    "import pymannkendall as mk\n",
    "# 进行曼-肯德尔趋势检验\n",
    "result = mk.original_test(df[COLS_Y])\n",
    "print(result)"
   ]
  },
  {
   "cell_type": "code",
   "execution_count": null,
   "metadata": {},
   "outputs": [],
   "source": [
    "# 以下是对结果的解释\n",
    "# Mann_Kendall_Test(\n",
    "#     trend='increasing', # 上升趋势\n",
    "#     h=True, # 显著性评估为True\n",
    "#     p=0.00018670112770591274, # P值非常小，可信\n",
    "#     z=3.7363629544193744, # 解释：这是标准化的检验统计量（Z值）。\n",
    "#     Tau=0.1312021312021312, # 这是肯德尔Tau系数，表示数据点之间的相关性。其值介于-1和1之间，正值表示上升趋势，负值表示下降趋势。Tau值为0.131，虽然比较小，但还是正值，这与前面的趋势结果一致。\n",
    "#     s=8668.0,\n",
    "#     var_s=5380708.666666667,\n",
    "#     slope=87078.1160403477, #斜率\n",
    "#     intercept=344914121.1886769 #截矩\n",
    "# )"
   ]
  }
 ],
 "metadata": {
  "kernelspec": {
   "display_name": "Python 3",
   "language": "python",
   "name": "python3"
  },
  "language_info": {
   "codemirror_mode": {
    "name": "ipython",
    "version": 3
   },
   "file_extension": ".py",
   "mimetype": "text/x-python",
   "name": "python",
   "nbconvert_exporter": "python",
   "pygments_lexer": "ipython3",
   "version": "3.12.2"
  }
 },
 "nbformat": 4,
 "nbformat_minor": 2
}
