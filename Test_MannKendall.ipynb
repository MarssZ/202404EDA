{
 "cells": [
  {
   "cell_type": "code",
   "execution_count": 2,
   "metadata": {},
   "outputs": [
    {
     "name": "stdout",
     "output_type": "stream",
     "text": [
      "           日期   销量（升）  石化站价格  竞争站价格    价差\n",
      "0  2023-07-17   40.06   7.63   7.19  0.44\n",
      "1  2023-07-18    0.24   7.63   7.19  0.44\n",
      "2  2023-07-19  239.41   7.63   7.19  0.44\n",
      "3  2023-07-20  381.09   7.63   7.19  0.44\n",
      "4  2023-07-21  553.67   7.63   7.19  0.44\n"
     ]
    }
   ],
   "source": [
    "#Mannkendall 检验，用来检验一个时间序列变量，是否在时间上具有趋势性。\n",
    "\n",
    "# 超参数\n",
    "COLS_Y = '销量（升）'\n",
    "COLS_ALL = ['日期', '销量（升）', '石化站价格', '竞争站价格', '价差']\n",
    "\n",
    "import pandas as pd\n",
    "\n",
    "# 读取excel文件并获取指定列\n",
    "df_uncleaned = pd.read_csv('Data/竞争站23年单站32809336.csv', usecols=COLS_ALL)\n",
    "# 删除包含空值的行\n",
    "df = df_uncleaned.dropna()\n",
    "print(df.head())\n"
   ]
  },
  {
   "cell_type": "code",
   "execution_count": 4,
   "metadata": {},
   "outputs": [
    {
     "name": "stdout",
     "output_type": "stream",
     "text": [
      "Mann_Kendall_Test(trend='increasing', h=True, p=5.992228624407403e-07, z=4.991467436629067, Tau=0.25948103792415167, s=3640.0, var_s=531505.3333333334, slope=1.6157528166609763, intercept=744.3346398088084)\n"
     ]
    },
    {
     "ename": "TypeError",
     "evalue": "can only concatenate str (not \"Mann_Kendall_Test\") to str",
     "output_type": "error",
     "traceback": [
      "\u001b[1;31m---------------------------------------------------------------------------\u001b[0m",
      "\u001b[1;31mTypeError\u001b[0m                                 Traceback (most recent call last)",
      "Cell \u001b[1;32mIn[4], line 7\u001b[0m\n\u001b[0;32m      4\u001b[0m \u001b[38;5;28mprint\u001b[39m(result)\n\u001b[0;32m      6\u001b[0m season_result \u001b[38;5;241m=\u001b[39m mk\u001b[38;5;241m.\u001b[39mseasonal_test(df[COLS_Y])\n\u001b[1;32m----> 7\u001b[0m \u001b[38;5;28mprint\u001b[39m(\u001b[38;5;124;43m'\u001b[39;49m\u001b[38;5;124;43mseason_result \u001b[39;49m\u001b[38;5;124;43m'\u001b[39;49m\u001b[38;5;241;43m+\u001b[39;49m\u001b[43mresult\u001b[49m)\n",
      "\u001b[1;31mTypeError\u001b[0m: can only concatenate str (not \"Mann_Kendall_Test\") to str"
     ]
    }
   ],
   "source": [
    "import pymannkendall as mk\n",
    "# 进行曼-肯德尔趋势检验\n",
    "result = mk.original_test(df[COLS_Y])\n",
    "print(result)\n",
    "\n",
    "season_result = mk.seasonal_test(df[COLS_Y])\n",
    "print(f'season_result: {season_result}')"
   ]
  },
  {
   "cell_type": "code",
   "execution_count": null,
   "metadata": {},
   "outputs": [],
   "source": [
    "# 以下是对结果的解释\n",
    "# Mann_Kendall_Test(\n",
    "#     trend='increasing', # 上升趋势\n",
    "#     h=True, # 显著性评估为True\n",
    "#     p=0.00018670112770591274, # P值非常小，可信\n",
    "#     z=3.7363629544193744, # 解释：这是标准化的检验统计量（Z值）。\n",
    "#     Tau=0.1312021312021312, # 这是肯德尔Tau系数，表示数据点之间的相关性。其值介于-1和1之间，正值表示上升趋势，负值表示下降趋势。Tau值为0.131，虽然比较小，但还是正值，这与前面的趋势结果一致。\n",
    "#     s=8668.0,\n",
    "#     var_s=5380708.666666667,\n",
    "#     slope=87078.1160403477, #斜率\n",
    "#     intercept=344914121.1886769 #截矩\n",
    "# )"
   ]
  }
 ],
 "metadata": {
  "kernelspec": {
   "display_name": "Python 3",
   "language": "python",
   "name": "python3"
  },
  "language_info": {
   "codemirror_mode": {
    "name": "ipython",
    "version": 3
   },
   "file_extension": ".py",
   "mimetype": "text/x-python",
   "name": "python",
   "nbconvert_exporter": "python",
   "pygments_lexer": "ipython3",
   "version": "3.12.2"
  }
 },
 "nbformat": 4,
 "nbformat_minor": 2
}
