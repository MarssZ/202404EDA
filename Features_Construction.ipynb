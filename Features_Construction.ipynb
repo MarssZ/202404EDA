{
 "cells": [
  {
   "cell_type": "code",
   "execution_count": null,
   "metadata": {},
   "outputs": [],
   "source": [
    "# 超参数\n",
    "COLS_GROUPBY= 'high'\n",
    "COLS_ALL = ['date', 'amount', 'order_cnt', 'text_day', 'text_night', 'high', 'low', 'wc_day', 'wd_day', 'wc_night', 'wd_night', 'week', 'holidays', 'encoded_wc_night', 'code_week', 'encoded_holidays', '305_price','313_price' ]\n",
    "\n",
    "# VAULE_Y = 'amount'\n",
    "import pandas as pd\n",
    "\n",
    "# 读取excel文件并获取指定列\n",
    "df = pd.read_csv('Data\\结果1_全站按日期分组_2023全年.csv', usecols=COLS_ALL, encoding='GBK')\n",
    "print(df)\n"
   ]
  },
  {
   "cell_type": "code",
   "execution_count": null,
   "metadata": {},
   "outputs": [],
   "source": [
    "# 构建节假日特征（销量平均值编码）\n",
    "# 计算每个holidays分类的amount平均值\n",
    "from sklearn.preprocessing import OrdinalEncoder\n",
    "\n",
    "holidays_mean = df.groupby(COLS_GROUPBY)['amount'].mean().reset_index()\n",
    "holidays_mean = holidays_mean.rename(columns={'amount': 'amount_mean'})\n",
    "\n",
    "# 将holidays和其平均amount进行合并\n",
    "df = pd.merge(df, holidays_mean, on=COLS_GROUPBY, how='left')\n",
    "\n",
    "# 使用OrdinalEncoder对holidays进行编码\n",
    "encoder = OrdinalEncoder()\n",
    "df['holidays_encoded'] = encoder.fit_transform(df[['amount_mean']])\n",
    "holidays_mean['holidays_encoded'] = encoder.fit_transform(holidays_mean[['amount_mean']])\n",
    "\n",
    "# 打印前几行结果\n",
    "print(holidays_mean)\n"
   ]
  }
 ],
 "metadata": {
  "kernelspec": {
   "display_name": "Python 3",
   "language": "python",
   "name": "python3"
  },
  "language_info": {
   "codemirror_mode": {
    "name": "ipython",
    "version": 3
   },
   "file_extension": ".py",
   "mimetype": "text/x-python",
   "name": "python",
   "nbconvert_exporter": "python",
   "pygments_lexer": "ipython3",
   "version": "3.12.2"
  }
 },
 "nbformat": 4,
 "nbformat_minor": 2
}
