{
 "cells": [
  {
   "cell_type": "code",
   "execution_count": 42,
   "metadata": {},
   "outputs": [
    {
     "name": "stdout",
     "output_type": "stream",
     "text": [
      "           date  order_cnt       amount  refuelLiters text_day text_night  \\\n",
      "359  2023-12-26    1072045  335929197.6   44738960.24        阴         多云   \n",
      "360  2023-12-27    1054896  332618128.4   44334481.65       多云          晴   \n",
      "361  2023-12-28    1032115  323028612.7   42986493.14        晴         多云   \n",
      "362  2023-12-29    1218840  372592734.2   49432247.01       多云         小雨   \n",
      "363  2023-12-30    1126207  341635923.3   45312200.19        阴          晴   \n",
      "\n",
      "     high  low wc_day wd_day  ... encoded_wc_night  wd_night week code_week  \\\n",
      "359     9    0   3~4级     东风  ...                1        东风  星期二         2   \n",
      "360    12    0    <3级    西北风  ...                0        北风  星期三         3   \n",
      "361    12    3   3~4级     北风  ...                0        东风  星期四         4   \n",
      "362    12    5   3~4级    东南风  ...                0       东南风  星期五         5   \n",
      "363    14    1    <3级    西南风  ...                2       西北风  星期六         6   \n",
      "\n",
      "     holidays encoded_holidays  305_price  encode_label_305price  \\\n",
      "359        平时                4        7.5                  无价格变动   \n",
      "360        平时                4        7.5                  无价格变动   \n",
      "361        平时                4        7.5                  无价格变动   \n",
      "362        平时                4        7.5                  无价格变动   \n",
      "363        平时                4        7.5                  无价格变动   \n",
      "\n",
      "    encode_weight_305price  313_price  \n",
      "359                    0.0       7.98  \n",
      "360                    0.0       7.98  \n",
      "361                    0.0       7.98  \n",
      "362                    0.0       7.98  \n",
      "363                    0.0       7.98  \n",
      "\n",
      "[5 rows x 21 columns]\n"
     ]
    }
   ],
   "source": [
    "# 超参数\n",
    "COLS_GROUPBY = 'holidays'\n",
    "COLS_TARGET = 'amount'\n",
    "COLS_ALL = ['date', 'amount', 'refuelLiters', 'order_cnt', 'text_day', 'text_night', 'high', 'low', 'wc_day', 'wd_day', 'wc_night', 'wd_night', 'week', 'holidays', 'encoded_wc_night', 'code_week', 'encoded_holidays', '305_price','encode_label_305price','encode_weight_305price','313_price' ]\n",
    "\n",
    "# VAULE_Y = 'amount'\n",
    "import pandas as pd\n",
    "\n",
    "# 读取excel文件并获取指定列\n",
    "df = pd.read_csv('Data\\结果1_全站按日期分组_2023全年.csv', usecols=COLS_ALL, encoding='GBK')\n",
    "print(df.tail())\n"
   ]
  },
  {
   "cell_type": "code",
   "execution_count": 43,
   "metadata": {},
   "outputs": [
    {
     "name": "stdout",
     "output_type": "stream",
     "text": [
      "  week   amount_mean  amount_count  encoded\n",
      "0  星期一  3.719884e+08            52      1.0\n",
      "1  星期三  3.828688e+08            52      5.0\n",
      "2  星期二  3.742820e+08            52      2.0\n",
      "3  星期五  3.923908e+08            52      6.0\n",
      "4  星期六  3.744019e+08            52      3.0\n",
      "5  星期四  3.746798e+08            52      4.0\n",
      "6  星期日  3.502571e+08            52      0.0\n"
     ]
    }
   ],
   "source": [
    "# 构建节假日特征（销量平均值编码）\n",
    "# 计算每个holidays分类的amount平均值\n",
    "from sklearn.preprocessing import OrdinalEncoder\n",
    "\n",
    "# 计算每个holidays分类的amount平均值和计数\n",
    "holidays_mean = df.groupby(COLS_GROUPBY)[COLS_TARGET].agg(['mean', 'count']).reset_index()\n",
    "holidays_mean = holidays_mean.rename(columns={'mean': COLS_TARGET+'_mean', 'count': COLS_TARGET+'_count'})\n",
    "\n",
    "# 对holidays_mean按COLS_GROUPBY排序\n",
    "holidays_mean = holidays_mean.sort_values(by=COLS_GROUPBY).reset_index(drop=True)\n",
    "\n",
    "# 将holidays和其平均amount进行合并\n",
    "df = pd.merge(df, holidays_mean, on=COLS_GROUPBY, how='left')\n",
    "\n",
    "# 使用OrdinalEncoder对holidays进行编码\n",
    "encoder = OrdinalEncoder()\n",
    "df['encoded'] = encoder.fit_transform(df[[COLS_TARGET+'_mean',]])\n",
    "holidays_mean['encoded'] = encoder.fit_transform(holidays_mean[[COLS_TARGET+'_mean',]])\n",
    "\n",
    "\n",
    "\n",
    "# 打印前几行结果\n",
    "print(holidays_mean)\n"
   ]
  }
 ],
 "metadata": {
  "kernelspec": {
   "display_name": "Python 3",
   "language": "python",
   "name": "python3"
  },
  "language_info": {
   "codemirror_mode": {
    "name": "ipython",
    "version": 3
   },
   "file_extension": ".py",
   "mimetype": "text/x-python",
   "name": "python",
   "nbconvert_exporter": "python",
   "pygments_lexer": "ipython3",
   "version": "3.12.2"
  }
 },
 "nbformat": 4,
 "nbformat_minor": 2
}
