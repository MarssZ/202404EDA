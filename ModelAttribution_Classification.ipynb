{
 "cells": [
  {
   "cell_type": "code",
   "execution_count": 1,
   "metadata": {},
   "outputs": [
    {
     "name": "stderr",
     "output_type": "stream",
     "text": [
      "<>:15: SyntaxWarning: invalid escape sequence '\\s'\n",
      "<>:15: SyntaxWarning: invalid escape sequence '\\s'\n",
      "C:\\Users\\admin\\AppData\\Local\\Temp\\ipykernel_34476\\3337218140.py:15: SyntaxWarning: invalid escape sequence '\\s'\n",
      "  df = pd.read_csv('Data\\store_6922.csv', usecols=['amt', 'discount_amount', 'pay_amount', 'num', 'discount', 'discount_percent', 'workdays', 'holidays'], encoding='GBK')\n"
     ]
    },
    {
     "name": "stdout",
     "output_type": "stream",
     "text": [
      "             amt  discount_amount   pay_amount    num  discount  \\\n",
      "0     3804652.56       3803782.16   3482546.56   4675  322106.0   \n",
      "1     3216893.59       3216133.84   3013320.59   4610  203573.0   \n",
      "2     3033223.52       3068796.02   2807851.52   3586  225372.0   \n",
      "3     3099303.65       3099058.65   2911070.65   4357  188233.0   \n",
      "4     4124829.36       4124510.86   3808599.36   4659  316230.0   \n",
      "..           ...              ...          ...    ...       ...   \n",
      "194  11190209.64      11201245.64  10590161.14  10132  600048.5   \n",
      "195  10717180.99      10717540.99  10088004.99  11565  629176.0   \n",
      "196  13226406.15      13227134.15  12417868.15  15602  808538.0   \n",
      "197  13883625.89      13883642.69  13042151.89  16104  841474.0   \n",
      "198  11461233.51      11466930.74  10873012.51  13470  588221.0   \n",
      "\n",
      "     discount_percent  workdays holidays  \n",
      "0            0.084661         1       平时  \n",
      "1            0.063282         1       平时  \n",
      "2            0.074301         1       平时  \n",
      "3            0.060734         0       平时  \n",
      "4            0.076665         0       平时  \n",
      "..                ...       ...      ...  \n",
      "194          0.053623         1      国庆节  \n",
      "195          0.058707         1      国庆节  \n",
      "196          0.061131         1      国庆节  \n",
      "197          0.060609         1      国庆节  \n",
      "198          0.051323         1      国庆节  \n",
      "\n",
      "[199 rows x 8 columns]\n"
     ]
    }
   ],
   "source": [
    "import pandas as pd\n",
    "import numpy as np\n",
    "import seaborn as sns\n",
    "import matplotlib.pyplot as plt\n",
    "from scipy.stats import norm\n",
    "\n",
    "# 归因模型：多分类归因 ModelAttribution_Classification\n",
    "# 用来检查给定数据cell是否与某一列二分类或多分类数据相关\n",
    "\n",
    "#超参数\n",
    "SIGN_CLASSIFICATION = 0.7 #判断是否多分类相关的显著性\n",
    "\n",
    "\n",
    "# 读取excel文件并获取指定列\n",
    "df = pd.read_csv('Data\\store_6922.csv', usecols=['amt', 'discount_amount', 'pay_amount', 'num', 'discount', 'discount_percent', 'workdays', 'holidays'], encoding='GBK')\n",
    "print(df)"
   ]
  },
  {
   "cell_type": "code",
   "execution_count": 2,
   "metadata": {},
   "outputs": [
    {
     "name": "stdout",
     "output_type": "stream",
     "text": [
      "待归因的值为第[15]行的‘amt’值为：2809835.0\n",
      "正在分析...造成第[15]行的‘amt’值为：2809835.0 的原因，是否与多元状态列[workdays]相关\n"
     ]
    }
   ],
   "source": [
    "# 等待用户输入一个索引值和列名，在df中取出对应值。\n",
    "value_index = input(\"待归因值的Index：\")\n",
    "value_column = input(\"待归因值的列名：\")\n",
    "value_cell = df.loc[int(value_index),value_column]\n",
    "print(\"待归因的值为第[%s]行的‘%s’值为：%s\"% (value_index, value_column, value_cell))\n",
    "\n",
    "# 等待用户输入一个假设与待归因值有 线性关系 的 列名\n",
    "value_column_Classification = input(\"待分析的列名：\")\n",
    "print(\"正在分析...造成第[%s]行的‘%s’值为：%s 的原因，是否与多元状态列[%s]相关\"% (value_index, value_column, value_cell, value_column_Classification))"
   ]
  },
  {
   "cell_type": "code",
   "execution_count": 3,
   "metadata": {},
   "outputs": [
    {
     "name": "stdout",
     "output_type": "stream",
     "text": [
      "与该列关系的显著性为:\n",
      "                sum_sq     df         F    PR(>F)\n",
      "workdays  1.149236e+13    1.0  1.124366  0.290279\n",
      "Residual  2.013574e+15  197.0       NaN       NaN\n"
     ]
    }
   ],
   "source": [
    "#计算多分类列，是否真的可以影响到待归因数据。\n",
    "from statsmodels.formula.api import ols\n",
    "import statsmodels.api as sm\n",
    "\n",
    "# 使用ols（普通最小二乘法）进行单因素ANOVA\n",
    "    # sm：代表statsmodels库的别名。\n",
    "    # stats：是statsmodels模块中包含多种统计测试和工具的子模块。\n",
    "    # anova_lm：是stats模块中的一个函数，用于生成线性模型的ANOVA表。\n",
    "    # model：是你使用ols函数（来自statsmodels.formula.api）拟合的线性模型对象。\n",
    "    # typ=2：是传递给anova_lm函数的一个参数，它指定了F统计量计算的类型。在statsmodels中，typ=1和typ=2分别对应于SQL（顺序求和）和ML（最大似然）类型的F统计量计算方法。在大多数社会科学领域，typ=2更为常见。\n",
    "model = ols('amt ~ workdays', data=df).fit()\n",
    "anova_table = sm.stats.anova_lm(model, typ=2)\n",
    "\n",
    "print(\"与该列关系的显著性为:\")\n",
    "print(anova_table)"
   ]
  }
 ],
 "metadata": {
  "kernelspec": {
   "display_name": "Python 3",
   "language": "python",
   "name": "python3"
  },
  "language_info": {
   "codemirror_mode": {
    "name": "ipython",
    "version": 3
   },
   "file_extension": ".py",
   "mimetype": "text/x-python",
   "name": "python",
   "nbconvert_exporter": "python",
   "pygments_lexer": "ipython3",
   "version": "3.12.2"
  }
 },
 "nbformat": 4,
 "nbformat_minor": 2
}
