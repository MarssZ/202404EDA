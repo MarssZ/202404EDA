{
 "cells": [
  {
   "cell_type": "code",
   "execution_count": 11,
   "metadata": {},
   "outputs": [
    {
     "name": "stderr",
     "output_type": "stream",
     "text": [
      "<>:6: SyntaxWarning: invalid escape sequence '\\s'\n",
      "<>:6: SyntaxWarning: invalid escape sequence '\\s'\n",
      "C:\\Users\\admin\\AppData\\Local\\Temp\\ipykernel_14824\\2897259569.py:6: SyntaxWarning: invalid escape sequence '\\s'\n",
      "  df = pd.read_csv('Data\\store_6922.csv', usecols=['dt', 'amt', 'discount_amount', 'pay_amount', 'num', 'discount', 'discount_percent', 'workdays', 'holidays', 'weekdays', 'text_day', 'text_night', 'high', 'low', 'high_low', 'wc_day'], encoding='GBK')\n"
     ]
    }
   ],
   "source": [
    "import pandas as pd\n",
    "import numpy as np\n",
    "from scipy.stats import f_oneway\n",
    "\n",
    "# 读取excel文件并获取指定列\n",
    "df = pd.read_csv('Data\\store_6922.csv', usecols=['dt', 'amt', 'discount_amount', 'pay_amount', 'num', 'discount', 'discount_percent', 'workdays', 'holidays', 'weekdays', 'text_day', 'text_night', 'high', 'low', 'high_low', 'wc_day'], encoding='GBK')\n",
    "#print(df)"
   ]
  },
  {
   "cell_type": "code",
   "execution_count": 23,
   "metadata": {},
   "outputs": [
    {
     "name": "stdout",
     "output_type": "stream",
     "text": [
      "1 的销量数组: [3586, 3651, 4108, 4400, 5406, 3512, 3717, 8498, 16810, 9806, 5992, 6785, 6167, 6075, 4095, 10066, 6596, 4886, 4445, 3102, 3178, 3302, 3368, 3790, 3714, 6324, 4681, 3861, 13470]\n",
      "2 的销量数组: [4610, 4262, 3764, 4920, 5186, 4005, 5628, 7409, 9608, 13336, 6162, 6921, 5814, 5350, 3906, 4109, 4750, 5732, 4622, 2946, 3562, 3773, 2895, 4008, 5862, 4917, 5557, 5717, 16104]\n",
      "3 的销量数组: [4675, 3174, 4182, 5606, 4527, 4682, 5299, 8743, 11798, 14829, 6326, 7331, 6702, 5684, 4968, 3821, 4996, 5401, 3606, 3622, 3850, 3357, 3719, 4100, 5787, 4129, 6279, 6955, 15602]\n",
      "4 的销量数组: [6148, 5706, 6593, 4128, 4788, 6289, 7589, 12513, 17516, 6900, 6285, 7453, 4703, 4904, 3704, 6678, 5840, 4136, 4351, 4349, 3425, 3910, 4383, 8691, 5406, 4333, 8080, 11565]\n",
      "5 的销量数组: [5041, 5375, 6187, 4036, 5425, 6107, 4061, 12650, 18724, 2912, 6064, 7579, 15103, 6003, 4395, 8261, 10532, 4237, 4401, 4201, 4022, 3604, 8332, 4739, 6074, 5773, 8352, 10132]\n",
      "6 的销量数组: [4659, 6035, 5395, 4705, 6198, 5012, 4458, 7733, 17105, 7471, 8330, 8597, 15724, 6565, 5221, 8475, 12407, 5788, 6021, 3776, 4671, 4472, 11828, 4136, 4863, 6755, 8642, 5137]\n",
      "7 的销量数组: [4357, 4633, 4575, 4900, 6198, 4320, 3990, 8437, 17154, 7784, 6168, 8724, 13498, 6797, 4087, 9285, 11857, 5658, 4988, 3262, 3602, 4004, 5422, 3328, 4582, 6777, 6914, 4202]\n"
     ]
    }
   ],
   "source": [
    "# 使用 groupby 函数按天气分组，并获取每组的销量数据\n",
    "weather_groups = df.groupby('weekdays')['amt'].apply(list)\n",
    "\n",
    "# 打印结果\n",
    "for weather, sales_array in weather_groups.items():\n",
    "    print(f\"{weather} 的销量数组: {sales_array}\")"
   ]
  },
  {
   "cell_type": "code",
   "execution_count": 24,
   "metadata": {},
   "outputs": [
    {
     "name": "stdout",
     "output_type": "stream",
     "text": [
      "F 统计量: 0.8091974599703532\n",
      "P 值: 0.5639086511976854\n"
     ]
    }
   ],
   "source": [
    "# 进行单因素方差分析\n",
    "f_statistic, p_value = f_oneway(*weather_groups)\n",
    "\n",
    "# 打印结果\n",
    "print(\"F 统计量:\", f_statistic)\n",
    "print(\"P 值:\", p_value)"
   ]
  }
 ],
 "metadata": {
  "kernelspec": {
   "display_name": "Python 3",
   "language": "python",
   "name": "python3"
  },
  "language_info": {
   "codemirror_mode": {
    "name": "ipython",
    "version": 3
   },
   "file_extension": ".py",
   "mimetype": "text/x-python",
   "name": "python",
   "nbconvert_exporter": "python",
   "pygments_lexer": "ipython3",
   "version": "3.12.2"
  }
 },
 "nbformat": 4,
 "nbformat_minor": 2
}
